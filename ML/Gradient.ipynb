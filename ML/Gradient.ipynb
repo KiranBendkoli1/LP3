{
 "cells": [
  {
   "cell_type": "markdown",
   "metadata": {},
   "source": [
    "### Assignment 4\n",
    "Implement Gradient Descent Algorithm to find the local minima of a function. \n",
    "For example, find the local minima of the function y = (x + 3)^2 starting from point x = 2."
   ]
  },
  {
   "cell_type": "code",
   "execution_count": 1,
   "metadata": {},
   "outputs": [],
   "source": [
    "import numpy as np\n",
    "import matplotlib.pyplot as plt"
   ]
  },
  {
   "cell_type": "code",
   "execution_count": 1,
   "metadata": {},
   "outputs": [],
   "source": [
    "import numpy as np\n",
    "import matplotlib.pyplot as plt"
   ]
  },
  {
   "cell_type": "code",
   "execution_count": 1,
   "metadata": {},
   "outputs": [],
   "source": [
    "import numpy as np\n",
    "import matplotlib.pyplot as plt"
   ]
  },
  {
   "cell_type": "code",
   "execution_count": 13,
   "metadata": {},
   "outputs": [
    {
     "name": "stdout",
     "output_type": "stream",
     "text": [
      "Local minimum occurs at:  -2.999951128099859\n"
     ]
    }
   ],
   "source": [
    "while (prev_step_size > precision and iters < max_iters):\n",
    "    prev_x = cur_x\n",
    "    cur_x = cur_x - rate * df(prev_x)    # gradient descent\n",
    "    \n",
    "    prev_step_size = abs(cur_x - prev_x)    # change in x\n",
    "    \n",
    "    iters += 1\n",
    "    \n",
    "    print(\"Iteration\", iters, \"\\nX value is\",cur_x)\n",
    "print(\"Local minimum occurs at: \", cur_x)"
   ]
  },
  {
   "cell_type": "code",
   "execution_count": null,
   "metadata": {},
   "outputs": [],
   "source": []
  }
 ],
 "metadata": {
  "kernelspec": {
   "display_name": "Python 3 (ipykernel)",
   "language": "python",
   "name": "python3"
  },
  "language_info": {
   "codemirror_mode": {
    "name": "ipython",
    "version": 3
   },
   "file_extension": ".py",
   "mimetype": "text/x-python",
   "name": "python",
   "nbconvert_exporter": "python",
   "pygments_lexer": "ipython3",
   "version": "3.9.7"
  }
 },
 "nbformat": 4,
 "nbformat_minor": 2
}
